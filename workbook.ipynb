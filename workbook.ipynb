{
 "cells": [
  {
   "cell_type": "markdown",
   "metadata": {},
   "source": [
    "### Imports"
   ]
  },
  {
   "cell_type": "code",
   "execution_count": 34,
   "metadata": {},
   "outputs": [],
   "source": [
    "import numpy as np\n",
    "import matplotlib\n",
    "import matplotlib.pyplot as plt\n",
    "\n",
    "import torch\n",
    "import gpytorch as gp\n",
    "\n",
    "from IPython.display import clear_output\n",
    "from matplotlib.colors import LinearSegmentedColormap\n",
    "from tqdm import tqdm\n",
    "from scipy.stats import skewnorm\n",
    "from scipy.interpolate import CubicSpline\n",
    "\n",
    "from typing import List\n",
    "\n",
    "import warnings\n",
    "warnings.filterwarnings('ignore')"
   ]
  },
  {
   "cell_type": "markdown",
   "metadata": {},
   "source": [
    "### Plotting utilities"
   ]
  },
  {
   "cell_type": "code",
   "execution_count": 35,
   "metadata": {},
   "outputs": [],
   "source": [
    "# set plotting hyperparameters\n",
    "\n",
    "# set font sizes\n",
    "plt.rcParams['axes.titlesize'] = 18\n",
    "plt.rcParams['axes.labelsize'] = 16\n",
    "plt.rcParams['xtick.labelsize'] = 14\n",
    "plt.rcParams['ytick.labelsize'] = 14\n",
    "plt.rcParams['legend.fontsize'] = 14\n",
    "\n",
    "# set linewidths and tick linewidths\n",
    "plt.rcParams['axes.linewidth'] = 2\n",
    "plt.rcParams['xtick.major.width'] = 2\n",
    "plt.rcParams['ytick.major.width'] = 2\n",
    "\n",
    "# increase tick length\n",
    "plt.rcParams['xtick.major.size'] = 8\n",
    "plt.rcParams['ytick.major.size'] = 8\n",
    "\n",
    "# increase plot line widths\n",
    "plt.rcParams['lines.linewidth'] = 2\n",
    "\n",
    "# increase marker sizes\n",
    "plt.rcParams['lines.markersize'] = 8\n",
    "\n",
    "# set colors\n",
    "colors = ['#002147', '#15616D', '#E2C044', '#DE1F1F']"
   ]
  },
  {
   "cell_type": "code",
   "execution_count": 36,
   "metadata": {},
   "outputs": [],
   "source": [
    "blue_cmap = LinearSegmentedColormap.from_list(\"custom_cmap\", [\"#002147\", \"#ffffff\"])\n",
    "\n",
    "def truncate_colormap(\n",
    "        cmap: matplotlib.colors.Colormap,\n",
    "        min_val: float = 0.0,\n",
    "        max_val: float = 1.0,\n",
    "        n: int = 256,\n",
    "):\n",
    "    \"\"\"\n",
    "    Truncate a colormap to a specified range.\n",
    "\n",
    "    Args:\n",
    "        cmap (matplotlib.colors.Colormap): The colormap to be truncated.\n",
    "        min_val (float, optional): The minimum value of the colormap range. Defaults to 0.0.\n",
    "        max_val (float, optional): The maximum value of the colormap range. Defaults to 1.0.\n",
    "        n (int, optional): The number of colors in the truncated colormap. Defaults to 256.\n",
    "\n",
    "    Returns:\n",
    "        matplotlib.colors.Colormap: The truncated colormap.\n",
    "\n",
    "    Raises:\n",
    "        None\n",
    "\n",
    "    Examples:\n",
    "        # Truncate the 'viridis' colormap to the range [0.2, 0.8] with 128 colors\n",
    "        new_cmap = truncate_colormap(plt.cm.viridis, min_val=0.2, max_val=0.8, n=128)\n",
    "    \"\"\"\n",
    "    new_cmap = LinearSegmentedColormap.from_list(\n",
    "        f\"trunc({cmap.name},{min_val:.2f},{max_val:.2f})\",\n",
    "        cmap(np.linspace(min_val, max_val, n))\n",
    "    )\n",
    "    return new_cmap\n",
    "\n",
    "# Truncate the colormap\n",
    "blue_cmap = truncate_colormap(blue_cmap, 0., 0.8)"
   ]
  },
  {
   "cell_type": "markdown",
   "metadata": {},
   "source": [
    "### GP models"
   ]
  },
  {
   "cell_type": "code",
   "execution_count": 37,
   "metadata": {},
   "outputs": [],
   "source": [
    "# GP model for input data generation\n",
    "\n",
    "class GPModel(gp.models.ExactGP):\n",
    "    \"\"\"\n",
    "    Gaussian Process model for exact inference.\n",
    "\n",
    "    Args:\n",
    "        kernel (gpytorch.kernels.Kernel): The covariance kernel for the GP model.\n",
    "\n",
    "    Attributes:\n",
    "        mean_module (gpytorch.means.Mean): The mean module for the GP model.\n",
    "        covar_module (gpytorch.kernels.Kernel): The covariance module for the GP model.\n",
    "\n",
    "    \"\"\"\n",
    "\n",
    "    def __init__(\n",
    "            self,\n",
    "            kernel: gp.kernels.Kernel,\n",
    "    ):\n",
    "        \"\"\"\n",
    "        Initialize the GPModel.\n",
    "\n",
    "        Args:\n",
    "            kernel (gpytorch.kernels.Kernel): The covariance kernel for the GP model.\n",
    "\n",
    "        \"\"\"\n",
    "        # No training data, so pass dummy tensors with shape (1, 1)\n",
    "        super(GPModel, self).__init__(torch.zeros(1, 1), torch.zeros(1, 1), gp.likelihoods.GaussianLikelihood())\n",
    "        self.mean_module = gp.means.ZeroMean()\n",
    "        self.covar_module = kernel\n",
    "\n",
    "    def forward(\n",
    "            self,\n",
    "            x: torch.Tensor,\n",
    "    ):\n",
    "        \"\"\"\n",
    "        Forward pass of the GPModel.\n",
    "\n",
    "        Args:\n",
    "            x (torch.Tensor): The input tensor.\n",
    "\n",
    "        Returns:\n",
    "            gpytorch.distributions.MultivariateNormal: The output distribution.\n",
    "\n",
    "        \"\"\"\n",
    "        mean_x = self.mean_module(x)\n",
    "        covar_x = self.covar_module(x)\n",
    "        return gp.distributions.MultivariateNormal(mean_x, covar_x)"
   ]
  },
  {
   "cell_type": "code",
   "execution_count": 38,
   "metadata": {},
   "outputs": [],
   "source": [
    "# GP model for velocity model fusion\n",
    "\n",
    "class ApproximateGPModel(gp.models.ApproximateGP):\n",
    "    \"\"\"\n",
    "    Approximate Gaussian Process model for variational inference.\n",
    "\n",
    "    Args:\n",
    "        inducing_points (torch.Tensor): The inducing points for the variational distribution.\n",
    "\n",
    "    Attributes:\n",
    "        mean_module (gpytorch.means.Mean): The mean module for the GP model.\n",
    "        covar_module (gpytorch.kernels.Kernel): The covariance module for the GP model.\n",
    "\n",
    "    \"\"\"\n",
    "\n",
    "    def __init__(\n",
    "            self,\n",
    "            inducing_points: torch.Tensor,\n",
    "            kernel: gp.kernels.Kernel,\n",
    "    ):\n",
    "        \"\"\"\n",
    "        Initialize the ApproximateGPModel.\n",
    "\n",
    "        Args:\n",
    "            inducing_points (torch.Tensor): The inducing points for the variational distribution.\n",
    "\n",
    "        \"\"\"\n",
    "        variational_distribution = gp.variational.CholeskyVariationalDistribution(\n",
    "            inducing_points.size(-1)\n",
    "        )\n",
    "        variational_strategy = gp.variational.VariationalStrategy(\n",
    "            self,\n",
    "            inducing_points,\n",
    "            variational_distribution,\n",
    "            learn_inducing_locations=True,\n",
    "        )\n",
    "        super().__init__(variational_strategy)\n",
    "        self.mean_module = gp.means.ConstantMean()\n",
    "        self.covar_module = gp.kernels.ScaleKernel(kernel)\n",
    "\n",
    "    def forward(\n",
    "            self,\n",
    "            x: torch.Tensor,\n",
    "    ):\n",
    "        \"\"\"\n",
    "        Forward pass of the ApproximateGPModel.\n",
    "\n",
    "        Args:\n",
    "            x (torch.Tensor): The input tensor.\n",
    "\n",
    "        Returns:\n",
    "            gpytorch.distributions.MultivariateNormal: The output distribution.\n",
    "\n",
    "        \"\"\"\n",
    "        mean_x = self.mean_module(x)\n",
    "        covar_x = self.covar_module(x)\n",
    "        return gp.distributions.MultivariateNormal(mean_x, covar_x)"
   ]
  },
  {
   "cell_type": "markdown",
   "metadata": {},
   "source": [
    "### Data generation utilities"
   ]
  },
  {
   "cell_type": "code",
   "execution_count": 39,
   "metadata": {},
   "outputs": [],
   "source": [
    "def sample_gp_prior(\n",
    "        kernel: gp.kernels.Kernel,\n",
    "        lengthscale: float,\n",
    "        n_samples: int = 1,\n",
    "        x: torch.Tensor = None,\n",
    "        x_samples: List[torch.Tensor] = None,\n",
    "):\n",
    "    \"\"\"\n",
    "    Generate samples from a Gaussian Process (GP) prior.\n",
    "\n",
    "    Parameters:\n",
    "    - kernel (gpytorch.kernels.Kernel): The kernel function used in the GP model.\n",
    "    - lengthscale (float or List[float]): The lengthscale(s) of the kernel function. If a single value is provided, it will be used for all samples. If a list is provided, the lengthscale should match the number of samples.\n",
    "    - n_samples (int): The number of samples to generate from the GP prior. Default is 1.\n",
    "    - x (torch.Tensor): The input tensor for the GP model. Either `x` or `x_samples` must be specified.\n",
    "    - x_samples (List[torch.Tensor]): The input tensors for each sample. If not specified, `x` will be used for all samples. The length of `x_samples` should match the number of samples.\n",
    "\n",
    "    Returns:\n",
    "    - samples (torch.Tensor): The generated samples from the GP prior.\n",
    "    \n",
    "    \"\"\"\n",
    "    ...\n",
    "    if isinstance(lengthscale, (int, float)):\n",
    "        lengthscale = [lengthscale] * n_samples\n",
    "    elif len(lengthscale) != n_samples:\n",
    "        raise ValueError(\"Number of length scales should match the number of samples\")\n",
    "\n",
    "    if x_samples is None:\n",
    "        if x is None:\n",
    "            raise ValueError(\"Either x or x_samples must be specified\")\n",
    "        x_samples = [x] * n_samples\n",
    "    elif len(x_samples) != n_samples:\n",
    "        raise ValueError(\"Number of x-arrays should match the number of samples\")\n",
    "\n",
    "    samples = torch.Tensor([])\n",
    "    for i in range(n_samples):\n",
    "        # Set the GP model with the custom kernel and length scale\n",
    "        kernel.lengthscale = torch.tensor([lengthscale[i]])\n",
    "        model = GPModel(kernel)\n",
    "\n",
    "        # Set the model in eval mode\n",
    "        model.eval()\n",
    "\n",
    "        # Sample from the GP model\n",
    "        with torch.no_grad():\n",
    "            sample = model(x_samples[i]).rsample()\n",
    "            samples = torch.cat([samples, sample.unsqueeze(0)], dim=0)\n",
    "\n",
    "    return samples"
   ]
  },
  {
   "cell_type": "code",
   "execution_count": 40,
   "metadata": {},
   "outputs": [],
   "source": [
    "def normalise(\n",
    "        data: torch.Tensor,\n",
    "        n: float,\n",
    "        m: float,\n",
    "):\n",
    "    \"\"\"\n",
    "    Normalizes the given data to a specified range.\n",
    "\n",
    "    Args:\n",
    "        data (torch.Tensor): The input data to be normalized.\n",
    "        n (float): The lower bound of the desired range.\n",
    "        m (float): The upper bound of the desired range.\n",
    "\n",
    "    Returns:\n",
    "        torch.Tensor: The normalized data.\n",
    "\n",
    "    \"\"\"\n",
    "\n",
    "    data = (data - torch.min(data)) / (torch.max(data) - torch.min(data))\n",
    "    data = data * (m - n) + n\n",
    "\n",
    "    return data"
   ]
  },
  {
   "cell_type": "markdown",
   "metadata": {},
   "source": [
    "## Workflow"
   ]
  },
  {
   "cell_type": "markdown",
   "metadata": {},
   "source": [
    "### Input data generation"
   ]
  },
  {
   "cell_type": "code",
   "execution_count": 41,
   "metadata": {},
   "outputs": [],
   "source": [
    "def set_seed(seed):\n",
    "\n",
    "    torch.manual_seed(seed)\n",
    "    np.random.seed(seed)\n",
    "\n",
    "    \n",
    "seed = 0\n",
    "set_seed(seed)"
   ]
  },
  {
   "cell_type": "code",
   "execution_count": 42,
   "metadata": {},
   "outputs": [],
   "source": [
    "# PARAMETERS TO CHANGE\n",
    "\n",
    "DATA_GENERATION_KERNEL = gp.kernels.RBFKernel()\n",
    "SVGP_FITTING_KERNEL = gp.kernels.RBFKernel()\n",
    "PPGPR_FITTING_KERNEL = gp.kernels.RBFKernel()\n",
    "\n",
    "NUM_INDUCING_POINTS = 20\n",
    "LEARNING_RATE = 0.05\n",
    "TRAINING_ITERATIONS = 4000"
   ]
  },
  {
   "cell_type": "code",
   "execution_count": 43,
   "metadata": {},
   "outputs": [],
   "source": [
    "n_points = 25   # number of data points per input velocity model\n",
    "\n",
    "# minimum and maximum seismic wave speeds in arbitrary units\n",
    "min_velocity = 3\n",
    "max_velocity = 7"
   ]
  },
  {
   "cell_type": "code",
   "execution_count": 44,
   "metadata": {},
   "outputs": [],
   "source": [
    "# create a staggered coordinate grid\n",
    "# GPs can handle non-gridded data, but we use regularly spaced\n",
    "# data here for simplicity\n",
    "\n",
    "x1 = torch.linspace(0., 3.9, n_points)  # coordinates of the first input velocity model\n",
    "x2 = torch.linspace(0.1, 4., n_points)  # coordinates of the second input velocity model\n",
    "\n",
    "xs = [x1, x2]"
   ]
  },
  {
   "cell_type": "code",
   "execution_count": 45,
   "metadata": {},
   "outputs": [
    {
     "name": "stdout",
     "output_type": "stream",
     "text": [
      "torch.Size([2, 25])\n"
     ]
    }
   ],
   "source": [
    "n_samples = len(xs)\n",
    "lengthscale = [0.6, 0.3]    # lengthscale of the kernel function for each input velocity model\n",
    "\n",
    "# generate velocity models as samples from the GP prior\n",
    "velocity_models = sample_gp_prior(DATA_GENERATION_KERNEL, lengthscale, n_samples=n_samples, x_samples=xs)\n",
    "\n",
    "print(velocity_models.shape)"
   ]
  },
  {
   "cell_type": "code",
   "execution_count": 46,
   "metadata": {},
   "outputs": [],
   "source": [
    "# second velocity model is a weighted superposition of the two GP samples\n",
    "# this creates large-scale similarities and smaller-scale differences between the two models\n",
    "velocity_models[1] = (1 / 3) * velocity_models[1] + (2 / 3) * velocity_models[0]\n",
    "\n",
    "# normalise the velocity models to the desired range\n",
    "velocity_models = normalise(velocity_models, min_velocity, max_velocity)"
   ]
  },
  {
   "cell_type": "code",
   "execution_count": 47,
   "metadata": {},
   "outputs": [
    {
     "data": {
      "image/png": "[encoded data removed]",
      "text/plain": [
       "<Figure size 400x600 with 1 Axes>"
      ]
     },
     "metadata": {},
     "output_type": "display_data"
    }
   ],
   "source": [
    "fig, ax = plt.subplots(1, 1, figsize=(4, 6))\n",
    "\n",
    "ax.scatter(velocity_models[0], xs[0], label=r\"$\\bf{m}_1$\", color=colors[0])\n",
    "ax.scatter(velocity_models[1], xs[1], label=r\"$\\bf{m}_2$\", color=colors[3])\n",
    "\n",
    "ax.set(ylim=(0, 4), xlim=(min_velocity, max_velocity))\n",
    "ax.set_ylabel(\"Depth [arb. units]\")\n",
    "ax.set_xlabel(\"Wave speed [arb. units / s]\")\n",
    "\n",
    "ax.invert_yaxis()\n",
    "\n",
    "ax.legend()\n",
    "\n",
    "plt.show()"
   ]
  },
  {
   "cell_type": "markdown",
   "metadata": {},
   "source": [
    "### Training the models"
   ]
  },
  {
   "cell_type": "code",
   "execution_count": 48,
   "metadata": {},
   "outputs": [
    {
     "name": "stdout",
     "output_type": "stream",
     "text": [
      "torch.Size([50]) torch.Size([50])\n"
     ]
    }
   ],
   "source": [
    "# set the training data\n",
    "train_x = torch.cat([x for x in xs], dim=0)\n",
    "train_y = torch.cat([y for y in velocity_models], dim=0)\n",
    "\n",
    "print(train_x.shape, train_y.shape)"
   ]
  },
  {
   "cell_type": "code",
   "execution_count": 49,
   "metadata": {},
   "outputs": [],
   "source": [
    "# set initial locations of the inducing points\n",
    "inducing_points = torch.linspace(0, 4, NUM_INDUCING_POINTS)\n",
    "\n",
    "# initialize the SVGP and PPGPR models\n",
    "ppgpr = ApproximateGPModel(inducing_points, PPGPR_FITTING_KERNEL)\n",
    "svgp = ApproximateGPModel(inducing_points, SVGP_FITTING_KERNEL)\n",
    "\n",
    "# set Gaussian likelihoods for the models\n",
    "likelihood_ppgpr = gp.likelihoods.GaussianLikelihood()\n",
    "likelihood_svgp = gp.likelihoods.GaussianLikelihood()"
   ]
  },
  {
   "cell_type": "code",
   "execution_count": 50,
   "metadata": {},
   "outputs": [
    {
     "data": {
      "text/plain": [
       "GaussianLikelihood(\n",
       "  (noise_covar): HomoskedasticNoise(\n",
       "    (raw_noise_constraint): GreaterThan(1.000E-04)\n",
       "  )\n",
       ")"
      ]
     },
     "execution_count": 50,
     "metadata": {},
     "output_type": "execute_result"
    }
   ],
   "source": [
    "# UNCOMMENT TO TRAIN THE MODEL\n",
    "ppgpr.train()\n",
    "svgp.train()\n",
    "likelihood_ppgpr.train()\n",
    "likelihood_svgp.train()"
   ]
  },
  {
   "cell_type": "code",
   "execution_count": 51,
   "metadata": {},
   "outputs": [],
   "source": [
    "# UNCOMMENT TO TRAIN THE MODEL\n",
    "\n",
    "# set the optimizers for the models\n",
    "optimizer_ppgpr = torch.optim.Adam([\n",
    "    {\"params\": ppgpr.parameters()},\n",
    "    {\"params\": likelihood_ppgpr.parameters()},\n",
    "], lr=LEARNING_RATE)\n",
    "\n",
    "optimizer_svgp = torch.optim.Adam([\n",
    "    {\"params\": svgp.parameters()},\n",
    "    {\"params\": likelihood_svgp.parameters()},\n",
    "], lr=LEARNING_RATE)\n",
    "\n",
    "# define the objective functions\n",
    "mll_ppgpr = gp.mlls.PredictiveLogLikelihood(likelihood_ppgpr, ppgpr, num_data=train_y.numel())\n",
    "mll_svgp = gp.mlls.VariationalELBO(likelihood_svgp, svgp, num_data=train_y.numel())"
   ]
  },
  {
   "cell_type": "code",
   "execution_count": 52,
   "metadata": {},
   "outputs": [
    {
     "name": "stderr",
     "output_type": "stream",
     "text": [
      "100%|██████████| 4000/4000 [00:28<00:00, 139.75it/s]\n",
      "100%|██████████| 4000/4000 [00:27<00:00, 145.96it/s]\n"
     ]
    }
   ],
   "source": [
    "# UNCOMMENT TO TRAIN THE MODEL\n",
    "# train the models\n",
    "\n",
    "for _ in tqdm(range(TRAINING_ITERATIONS)):\n",
    "    optimizer_ppgpr.zero_grad()\n",
    "    output_ppgpr = ppgpr(train_x)\n",
    "    loss_ppgpr = -mll_ppgpr(output_ppgpr, train_y)\n",
    "    loss_ppgpr.backward()\n",
    "    optimizer_ppgpr.step()\n",
    "\n",
    "for _ in tqdm(range(TRAINING_ITERATIONS)):\n",
    "    optimizer_svgp.zero_grad()\n",
    "    output_svgp = svgp(train_x)\n",
    "    loss_svgp = -mll_svgp(output_svgp, train_y)\n",
    "    loss_svgp.backward()\n",
    "    optimizer_svgp.step()"
   ]
  },
  {
   "cell_type": "code",
   "execution_count": 53,
   "metadata": {},
   "outputs": [
    {
     "data": {
      "text/plain": [
       "GaussianLikelihood(\n",
       "  (noise_covar): HomoskedasticNoise(\n",
       "    (raw_noise_constraint): GreaterThan(1.000E-04)\n",
       "  )\n",
       ")"
      ]
     },
     "execution_count": 53,
     "metadata": {},
     "output_type": "execute_result"
    }
   ],
   "source": [
    "# UNCOMMENT IF JUST TRAINED MODEL\n",
    "# save the models and likelihoods\n",
    "\n",
    "torch.save(ppgpr.state_dict(), \"./trained_models/ppgpr.pth\")\n",
    "torch.save(svgp.state_dict(), \"./trained_models/svgp.pth\")\n",
    "\n",
    "torch.save(likelihood_ppgpr.state_dict(), \"./trained_models/likelihood_ppgpr.pth\")\n",
    "torch.save(likelihood_svgp.state_dict(), \"./trained_models/likelihood_svgp.pth\")\n",
    "\n",
    "# load the models and likelihoods\n",
    "\n",
    "state_dict_ppgpr = torch.load(\"./trained_models/ppgpr.pth\")\n",
    "state_dict_svgp = torch.load(\"./trained_models/svgp.pth\")\n",
    "\n",
    "state_dict_likelihood_ppgpr = torch.load(\"./trained_models/likelihood_ppgpr.pth\")\n",
    "state_dict_likelihood_svgp = torch.load(\"./trained_models/likelihood_svgp.pth\")\n",
    "\n",
    "ppgpr = ApproximateGPModel(inducing_points, PPGPR_FITTING_KERNEL)\n",
    "ppgpr.load_state_dict(state_dict_ppgpr)\n",
    "\n",
    "svgp = ApproximateGPModel(inducing_points, SVGP_FITTING_KERNEL)\n",
    "svgp.load_state_dict(state_dict_svgp)\n",
    "\n",
    "ppgpr.eval()\n",
    "svgp.eval()\n",
    "\n",
    "likelihood_ppgpr = gp.likelihoods.GaussianLikelihood()\n",
    "likelihood_svgp = gp.likelihoods.GaussianLikelihood()\n",
    "\n",
    "likelihood_ppgpr.load_state_dict(state_dict_likelihood_ppgpr)\n",
    "likelihood_svgp.load_state_dict(state_dict_likelihood_svgp)\n",
    "\n",
    "likelihood_ppgpr.eval()\n",
    "likelihood_svgp.eval()"
   ]
  }
 ],
 "metadata": {
  "kernelspec": {
   "display_name": "venv-ie-gp",
   "language": "python",
   "name": "python3"
  },
  "language_info": {
   "codemirror_mode": {
    "name": "ipython",
    "version": 3
   },
   "file_extension": ".py",
   "mimetype": "text/x-python",
   "name": "python",
   "nbconvert_exporter": "python",
   "pygments_lexer": "ipython3",
   "version": "3.10.12"
  }
 },
 "nbformat": 4,
 "nbformat_minor": 2
}
